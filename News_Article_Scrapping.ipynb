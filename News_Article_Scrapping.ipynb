{
 "cells": [
  {
   "cell_type": "code",
   "execution_count": 6,
   "metadata": {},
   "outputs": [
    {
     "name": "stdout",
     "output_type": "stream",
     "text": [
      "[nltk_data] Downloading package stopwords to C:\\Users\\Pradnya\n",
      "[nltk_data]     Borkar\\AppData\\Roaming\\nltk_data...\n",
      "[nltk_data]   Package stopwords is already up-to-date!\n"
     ]
    }
   ],
   "source": [
    "import nltk\n",
    "nltk.download('stopwords')\n",
    "stopwords = set(stopwords.words('english') + list(punctuation))\n",
    "\n",
    "\n"
   ]
  },
  {
   "cell_type": "code",
   "execution_count": 7,
   "metadata": {},
   "outputs": [
    {
     "name": "stdout",
     "output_type": "stream",
     "text": [
      "[nltk_data] Downloading package punkt to C:\\Users\\Pradnya\n",
      "[nltk_data]     Borkar\\AppData\\Roaming\\nltk_data...\n",
      "[nltk_data]   Package punkt is already up-to-date!\n"
     ]
    },
    {
     "data": {
      "text/plain": [
       "True"
      ]
     },
     "execution_count": 7,
     "metadata": {},
     "output_type": "execute_result"
    }
   ],
   "source": [
    "nltk.download('punkt')\n",
    "\n"
   ]
  },
  {
   "cell_type": "code",
   "execution_count": 8,
   "metadata": {
    "collapsed": true
   },
   "outputs": [],
   "source": [
    "\n",
    "from nltk.tokenize import word_tokenize, sent_tokenize\n",
    "from nltk.corpus import stopwords\n",
    "from  string import punctuation\n",
    "from collections import defaultdict\n",
    "from heapq import nlargest\n",
    "import urllib.request\n",
    "from bs4 import BeautifulSoup\n",
    "\n"
   ]
  },
  {
   "cell_type": "code",
   "execution_count": 9,
   "metadata": {
    "collapsed": true
   },
   "outputs": [],
   "source": [
    "def get_only_text(url):\n",
    "    page = urllib.request.urlopen(url).read().decode('utf8')\n",
    "    soup = BeautifulSoup(page, \"lxml\")\n",
    "    text = ' '.join(map(lambda p: p.text, soup.find_all('article')))\n",
    "    soup2 = BeautifulSoup(text, \"lxml\")\n",
    "    text = ' '.join(map(lambda p: p.text, soup2.find_all('p')))\n",
    "    return soup.title.text, text\n",
    "\n",
    "\n",
    "\n"
   ]
  },
  {
   "cell_type": "code",
   "execution_count": 10,
   "metadata": {
    "collapsed": true
   },
   "outputs": [],
   "source": [
    "\n",
    "someUrl = \"http://bleacherreport.com/articles/2750884-jimmy-garoppolo-deserves-major-payday-as-the-savior-the-49ers-desperately-need\"\n",
    "\n",
    "textOfUrl = get_only_text(someUrl)\n",
    "\n",
    "\n"
   ]
  },
  {
   "cell_type": "code",
   "execution_count": 12,
   "metadata": {},
   "outputs": [
    {
     "name": "stdout",
     "output_type": "stream",
     "text": [
      "Facebook LogoTwitter LogoCopy Link IconSan Francisco 49ersJimmy Garoppolo Deserves Major Payday as the Savior the 49ers Desperately NeedBrad Gagnon@Brad_GagnonTwitter Logo NFL National ColumnistDecember 24, 2017 CommentsComment Bubble IconMarcio Jose Sanchez/Associated PressThe San Francisco 49ers have their quarterback of the future, and he's about to become one of the richest men in professional sports.That was already apparent when San Francisco traded a second-round pick for Jimmy Garoppolo in October. There were clues that the 2014 second-round pick was quickly becoming a franchise quarterback when he threw a sweet touchdown pass on his third snap as a member of the 49ers, and more hints came when he followed that up by leading San Francisco to three consecutive victories over the Chicago Bears, Houston Texans and Tennessee Titans in December. But Sunday's performance against the Jacksonville Jaguars clinched it.The 26-year-old former Tom Brady protege is on track to become an elite quarterback, one capable of going toe-to-toe with his old mentor and any other NFL starter.  49ers since the start of 2015CategoryWith GaroppoloWithout himRecord4-08-35Points/game27.517.1NFL.com/Pro Football ReferenceGaroppolo lit up a defense that entered Sunday ranked first in the league in terms of points allowed, yards per play allowed and takeaways per game. He completed all but nine of 30 passes for 242 yards, passing for two touchdowns and running for another in a 44-33 victory over a team that hadn't allowed that many points since September 2015. The Eastern Illinois product has yet to lose a start in the NFL. It's one thing to win your first two with a Super Bowl-caliber New England Patriots team, but it's another thing to win the next four as part of a 49ers squad that had lost 24 of its past 26 games before Garoppolo's debut as a starter on Dec. 3.Michael David Smith @MichaelDavSmithThe 49ers were 1-10 and most power rankings had them 31st. That was four weeks ago.\n",
      "Then they put Jimmy Garoppolo in and since then they're 4-0 and just put 44 on the board against the best defense in the NFL.2017-12-25 00:31:46That indicates something special is brewing, which is exciting but also stressful since the 49ers' apparent savior has one game remaining on his rookie contract. Before Garoppolo made his first start, Niners head coach Kyle Shanahan said the team would likely use its franchise tag on him. \"I think it would be very hard for Jimmy to go in there and show over whatever time span that is (the rest of the season) that he could (be the franchise quarterback),\" Shanahan said in November, per Grant Cohn of the Press Democrat. \"Also for us, that’s a lot of pressure to get a guy ready and commit long term. So, I think knowing how the franchise tag works is what made it kind of a no-brainer to make that trade.\"But Garoppolo has blown past any reasonable expectations, and this four-week run should give him breathing room if he has a poor showing on the road against the Los Angeles Rams in the season finale. Regardless of how he fares in Week 17, he should still be in line either to sign a long-term contract worth $20-plus million a year or a franchise tender that could be worth as much as $24 million for 2018 alone. And if he continues to deliver the way he has thus far, he'll be worth every penny.Before Garoppolo took over, San Francisco had lost 39 of its last 48 games dating back to 2014. The 49ers had the league's sixth-lowest passer rating in 2015 and the league's lowest-ranked passing offense last season. Prior to Garoppolo's first start this season, they had the NFC's worst team quarterback rating. Football is a team sport, and wins are not an individual statistic. But the link between correlation and causation can't be denied in this case. This is the most pass-heavy era in NFL history, and teams rarely win without good quarterback play. The 49ers roster remains a work in progress, but one good quarterback has turned a punchline into a team that could contend for a playoff berth in 2018. David Lombardi @LombardiHimselfJimmy Garoppolo has now broken Kurt Warner’s record for most passing yards in first 4 starts with a team in NFL history. Record was 1,217.2017-12-24 23:11:31You can't put a price on that, and it appears as though Shanahan and new 49ers general manager John Lynch are aware of such. The sample is small, but the numbers, the sudden success and the eye test all indicate Garoppolo is a superstar in the making. In 2018, that's all a quarterback needs to land a blockbuster deal.       Brad Gagnon has covered the NFL for Bleacher Report since 2012.Facebook LogoTwitter LogoCopy Link IconComments Down Arrow IconRelatedNFLCam Is Ready to Lead Panthers Through New EraMike Freemanvia Bleacher ReportSan Francisco 49ersHyde: 49ers 'Going to Win the SB' Next YearTim Danielsvia Bleacher ReportSan Francisco 49ersNo. 1 Defense No Problem for Garoppolo in Win Over JagsSFGatevia SFGateNFLSeahawks Kill Cowboys' Playoff HopesTimothy Rappvia Bleacher Report\n"
     ]
    }
   ],
   "source": [
    "print(textOfUrl[1])\n"
   ]
  },
  {
   "cell_type": "code",
   "execution_count": 13,
   "metadata": {
    "collapsed": true
   },
   "outputs": [],
   "source": [
    "stopwords=set(stopwords.words('english') + list(punctuation))"
   ]
  },
  {
   "cell_type": "code",
   "execution_count": 22,
   "metadata": {},
   "outputs": [],
   "source": [
    "sentence=sent_tokenize(textOfUrl[1])\n",
    "word_sent=[word_tokenize(s.lower()) for s in sentence]\n"
   ]
  },
  {
   "cell_type": "code",
   "execution_count": 33,
   "metadata": {},
   "outputs": [],
   "source": [
    "#print(word_sent)\n",
    "freq = defaultdict(int)\n",
    "for s in word_sent:\n",
    "       \n",
    "          for word in s:\n",
    "           \n",
    "            if word not in stopwords:\n",
    "                \n",
    "                freq[word] += 1\n",
    "m = float(max(freq.values()))\n",
    "for w in list(freq.keys()):\n",
    "           \n",
    "            freq[w] = freq[w]/m\n",
    "            \n",
    "            if freq[w] >= 0.9 or freq[w] <= 0.1:\n",
    "               \n",
    "                del freq[w]\n",
    "               \n"
   ]
  },
  {
   "cell_type": "code",
   "execution_count": 34,
   "metadata": {},
   "outputs": [
    {
     "name": "stdout",
     "output_type": "stream",
     "text": [
      "dict_keys(['logotwitter', 'logocopy', 'link', 'francisco', 'savior', 'gagnon', 'nfl', '24', 'san', 'quarterback', 'become', 'one', 'apparent', 'second-round', 'pick', 'jimmy', '2014', 'franchise', 'sunday', 'starter', 'since', 'start', 'football', 'defense', 'first', 'league', 'points', 'allowed', 'yards', 'per', 'play', 'game', 'passing', 'two', 'another', 'team', \"n't\", '2015', 'thing', 'win', 'new', 'next', 'four', 'lost', 'past', 'games', 'david', 'put', 'also', 'contract', 'made', 'shanahan', 'said', 'would', 'tag', '``', 'think', 'season', 'could', '’', 'ready', 'worth', 'million', '2018', 'last', 'rating', 'ca', 'history', 'good', 'playoff', 'record', 'bleacher', 'report', 'reportsan'])\n"
     ]
    }
   ],
   "source": [
    "print(freq.keys())"
   ]
  },
  {
   "cell_type": "code",
   "execution_count": 46,
   "metadata": {
    "collapsed": true
   },
   "outputs": [],
   "source": [
    "def summarize(text):\n",
    "       \n",
    "        sents = sent_tokenize(text)\n",
    "      \n",
    "        assert 3 <= len(sents)\n",
    "      \n",
    "        word_sent = [word_tokenize(s.lower()) for s in sents]\n",
    "\n",
    "        \n",
    "       \n",
    "        ranking = defaultdict(int)\n",
    "       \n",
    "        for i,sent in enumerate(word_sent):\n",
    "          \n",
    "            for w in sent:\n",
    "              \n",
    "                if w in freq:\n",
    "                   \n",
    "                    ranking[i] += freq[w]\n",
    "      \n",
    "        sents_idx = nlargest(3, ranking, key=ranking.get)\n",
    "       \n",
    "        return [sents[j] for j in sents_idx]"
   ]
  },
  {
   "cell_type": "code",
   "execution_count": 47,
   "metadata": {},
   "outputs": [],
   "source": [
    "summary =summarize(textOfUrl[1])"
   ]
  },
  {
   "cell_type": "code",
   "execution_count": 49,
   "metadata": {},
   "outputs": [
    {
     "name": "stdout",
     "output_type": "stream",
     "text": [
      "Facebook LogoTwitter LogoCopy Link IconSan Francisco 49ersJimmy Garoppolo Deserves Major Payday as the Savior the 49ers Desperately NeedBrad Gagnon@Brad_GagnonTwitter Logo NFL National ColumnistDecember 24, 2017 CommentsComment Bubble IconMarcio Jose Sanchez/Associated PressThe San Francisco 49ers have their quarterback of the future, and he's about to become one of the richest men in professional sports.That was already apparent when San Francisco traded a second-round pick for Jimmy Garoppolo in October.\n",
      "Brad Gagnon has covered the NFL for Bleacher Report since 2012.Facebook LogoTwitter LogoCopy Link IconComments Down Arrow IconRelatedNFLCam Is Ready to Lead Panthers Through New EraMike Freemanvia Bleacher ReportSan Francisco 49ersHyde: 49ers 'Going to Win the SB' Next YearTim Danielsvia Bleacher ReportSan Francisco 49ersNo.\n",
      "It's one thing to win your first two with a Super Bowl-caliber New England Patriots team, but it's another thing to win the next four as part of a 49ers squad that had lost 24 of its past 26 games before Garoppolo's debut as a starter on Dec. 3.Michael David Smith @MichaelDavSmithThe 49ers were 1-10 and most power rankings had them 31st.\n"
     ]
    }
   ],
   "source": [
    "for sentences in summary:\n",
    "    print(sentences)"
   ]
  },
  {
   "cell_type": "code",
   "execution_count": null,
   "metadata": {
    "collapsed": true
   },
   "outputs": [],
   "source": []
  }
 ],
 "metadata": {
  "kernelspec": {
   "display_name": "Python 3",
   "language": "python",
   "name": "python3"
  },
  "language_info": {
   "codemirror_mode": {
    "name": "ipython",
    "version": 3
   },
   "file_extension": ".py",
   "mimetype": "text/x-python",
   "name": "python",
   "nbconvert_exporter": "python",
   "pygments_lexer": "ipython3",
   "version": "3.6.3"
  }
 },
 "nbformat": 4,
 "nbformat_minor": 2
}
